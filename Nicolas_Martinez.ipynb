{
  "nbformat": 4,
  "nbformat_minor": 0,
  "metadata": {
    "colab": {
      "name": "Nicolas_Martinez.ipynb",
      "provenance": [],
      "authorship_tag": "ABX9TyMABQkKITKTjJH9mZYKdikn",
      "include_colab_link": true
    },
    "kernelspec": {
      "name": "python3",
      "display_name": "Python 3"
    },
    "language_info": {
      "name": "python"
    }
  },
  "cells": [
    {
      "cell_type": "markdown",
      "metadata": {
        "id": "view-in-github",
        "colab_type": "text"
      },
      "source": [
        "<a href=\"https://colab.research.google.com/github/nickmar2021/curso_python/blob/main/Nicolas_Martinez.ipynb\" target=\"_parent\"><img src=\"https://colab.research.google.com/assets/colab-badge.svg\" alt=\"Open In Colab\"/></a>"
      ]
    },
    {
      "cell_type": "code",
      "metadata": {
        "colab": {
          "base_uri": "https://localhost:8080/"
        },
        "id": "9i5B-P4NzQRf",
        "outputId": "16f201d4-0731-4146-97de-9e83fc066566"
      },
      "source": [
        "x=8;\n",
        "\n",
        "y=x;\n",
        "print(\"el valor de y = \",y)"
      ],
      "execution_count": null,
      "outputs": [
        {
          "output_type": "stream",
          "text": [
            "el valor de y =  8\n"
          ],
          "name": "stdout"
        }
      ]
    },
    {
      "cell_type": "code",
      "metadata": {
        "colab": {
          "base_uri": "https://localhost:8080/"
        },
        "id": "iqvO1BZh-Coi",
        "outputId": "81e21ce4-a053-4785-d249-0f8fb2c148ac"
      },
      "source": [
        "#tipo bool\n",
        "Variable_verdadera = True\n",
        "Variable_falsa = False\n",
        "type(variable_verdadero  )"
      ],
      "execution_count": null,
      "outputs": [
        {
          "output_type": "execute_result",
          "data": {
            "text/plain": [
              "bool"
            ]
          },
          "metadata": {
            "tags": []
          },
          "execution_count": 57
        }
      ]
    },
    {
      "cell_type": "code",
      "metadata": {
        "id": "VVDDsmgXLjhr"
      },
      "source": [
        ""
      ],
      "execution_count": null,
      "outputs": []
    },
    {
      "cell_type": "code",
      "metadata": {
        "colab": {
          "base_uri": "https://localhost:8080/"
        },
        "id": "LojWWYlbAfiC",
        "outputId": "5c7ade1c-2e55-40a1-b307-dac0c6a7a01d"
      },
      "source": [
        "bool(25)\n",
        "type(bool(25))"
      ],
      "execution_count": null,
      "outputs": [
        {
          "output_type": "execute_result",
          "data": {
            "text/plain": [
              "bool"
            ]
          },
          "metadata": {
            "tags": []
          },
          "execution_count": 59
        }
      ]
    },
    {
      "cell_type": "code",
      "metadata": {
        "colab": {
          "base_uri": "https://localhost:8080/"
        },
        "id": "kXXzpopZBL5u",
        "outputId": "81f32d6e-0b52-4460-8a98-68ab9fd863fc"
      },
      "source": [
        "Binario=0b1111\n",
        "Binario"
      ],
      "execution_count": null,
      "outputs": [
        {
          "output_type": "execute_result",
          "data": {
            "text/plain": [
              "15"
            ]
          },
          "metadata": {
            "tags": []
          },
          "execution_count": 38
        }
      ]
    },
    {
      "cell_type": "code",
      "metadata": {
        "colab": {
          "base_uri": "https://localhost:8080/"
        },
        "id": "rElpFtCxBYOt",
        "outputId": "73308d7a-9eda-4ded-efbc-1397bdcc4d22"
      },
      "source": [
        "cadena = \"esto es una cadena de texto\"\n",
        "type(cadena)"
      ],
      "execution_count": null,
      "outputs": [
        {
          "output_type": "execute_result",
          "data": {
            "text/plain": [
              "str"
            ]
          },
          "metadata": {
            "tags": []
          },
          "execution_count": 39
        }
      ]
    },
    {
      "cell_type": "code",
      "metadata": {
        "colab": {
          "base_uri": "https://localhost:8080/"
        },
        "id": "VfFwUJ6CBrPe",
        "outputId": "bc80c969-d0c3-42f8-85d5-d6bd1007ca82"
      },
      "source": [
        "cadena = \"hola!\"\n",
        "cadena = cadena+ \" nicolas\"\n",
        "print(cadena)\n",
        "type(cadena )"
      ],
      "execution_count": null,
      "outputs": [
        {
          "output_type": "stream",
          "text": [
            "5.75\n"
          ],
          "name": "stdout"
        },
        {
          "output_type": "execute_result",
          "data": {
            "text/plain": [
              "float"
            ]
          },
          "metadata": {
            "tags": []
          },
          "execution_count": 55
        }
      ]
    },
    {
      "cell_type": "code",
      "metadata": {
        "id": "11TofVczpD1S"
      },
      "source": [
        "doatos personales [\"nicolas martinez\",20,]"
      ],
      "execution_count": null,
      "outputs": []
    },
    {
      "cell_type": "markdown",
      "metadata": {
        "id": "Hjpvw0rGpBCr"
      },
      "source": [
        "sesion 2"
      ]
    },
    {
      "cell_type": "code",
      "metadata": {
        "id": "iFpC6CpNpwBi",
        "outputId": "4eb9a339-903b-4458-8b40-1d16b0ff555b",
        "colab": {
          "base_uri": "https://localhost:8080/"
        }
      },
      "source": [
        "datos_personales = [\"nicolas martinez\",20,True,\"apurimac\"]\n",
        "datos_personales"
      ],
      "execution_count": 23,
      "outputs": [
        {
          "output_type": "execute_result",
          "data": {
            "text/plain": [
              "['nicolas martinez', 20, True, 'apurimac']"
            ]
          },
          "metadata": {
            "tags": []
          },
          "execution_count": 23
        }
      ]
    },
    {
      "cell_type": "code",
      "metadata": {
        "id": "Z3ybsM3VqX74",
        "outputId": "685d4de7-5ff2-46c5-e82b-3ca8a7aea89f",
        "colab": {
          "base_uri": "https://localhost:8080/",
          "height": 35
        }
      },
      "source": [
        "nombres_apellidos=datos_personales[0]\n",
        "nombres_apellidos"
      ],
      "execution_count": 30,
      "outputs": [
        {
          "output_type": "execute_result",
          "data": {
            "application/vnd.google.colaboratory.intrinsic+json": {
              "type": "string"
            },
            "text/plain": [
              "'nicolas martinez'"
            ]
          },
          "metadata": {
            "tags": []
          },
          "execution_count": 30
        }
      ]
    },
    {
      "cell_type": "code",
      "metadata": {
        "id": "3ZdCQI2tq110",
        "outputId": "e8e69975-1270-4ee3-e0bf-533d826c3036",
        "colab": {
          "base_uri": "https://localhost:8080/",
          "height": 35
        }
      },
      "source": [
        "departamento=datos_personales[3]\n",
        "departamento"
      ],
      "execution_count": 31,
      "outputs": [
        {
          "output_type": "execute_result",
          "data": {
            "application/vnd.google.colaboratory.intrinsic+json": {
              "type": "string"
            },
            "text/plain": [
              "'apurimac'"
            ]
          },
          "metadata": {
            "tags": []
          },
          "execution_count": 31
        }
      ]
    },
    {
      "cell_type": "code",
      "metadata": {
        "id": "STl68Q3WrE9O",
        "outputId": "e14f372d-2e58-4907-ab23-005244464d36",
        "colab": {
          "base_uri": "https://localhost:8080/"
        }
      },
      "source": [
        "datos_personales2=datos_personales[:2]\n",
        "datos_personales2"
      ],
      "execution_count": 33,
      "outputs": [
        {
          "output_type": "execute_result",
          "data": {
            "text/plain": [
              "['nicolas martinez', 20]"
            ]
          },
          "metadata": {
            "tags": []
          },
          "execution_count": 33
        }
      ]
    },
    {
      "cell_type": "code",
      "metadata": {
        "id": "axJUMcWyrSTg",
        "outputId": "2499f7bb-32bf-4df5-c748-91cc1125c1a6",
        "colab": {
          "base_uri": "https://localhost:8080/"
        }
      },
      "source": [
        "datos_personales2[-1]"
      ],
      "execution_count": 34,
      "outputs": [
        {
          "output_type": "execute_result",
          "data": {
            "text/plain": [
              "20"
            ]
          },
          "metadata": {
            "tags": []
          },
          "execution_count": 34
        }
      ]
    },
    {
      "cell_type": "code",
      "metadata": {
        "id": "jVv0lbXtrz0X",
        "outputId": "39bd34e9-cc87-4924-c21a-bd03ea0c0748",
        "colab": {
          "base_uri": "https://localhost:8080/"
        }
      },
      "source": [
        "datos_personales[1:]"
      ],
      "execution_count": 36,
      "outputs": [
        {
          "output_type": "execute_result",
          "data": {
            "text/plain": [
              "[20, True]"
            ]
          },
          "metadata": {
            "tags": []
          },
          "execution_count": 36
        }
      ]
    },
    {
      "cell_type": "code",
      "metadata": {
        "id": "QQFDemMusMZm",
        "outputId": "e90445ef-6b00-4377-887d-5d6358b26f97",
        "colab": {
          "base_uri": "https://localhost:8080/"
        }
      },
      "source": [
        "datos_personales[0]=\"ricoalas martines\"\n",
        "datos_personales\n",
        "datos_personales[3]=\"cusco\"\n",
        "datos_personales"
      ],
      "execution_count": 40,
      "outputs": [
        {
          "output_type": "execute_result",
          "data": {
            "text/plain": [
              "['ricoalas martines', 20, True, 'cuscp']"
            ]
          },
          "metadata": {
            "tags": []
          },
          "execution_count": 40
        }
      ]
    },
    {
      "cell_type": "code",
      "metadata": {
        "id": "4nX4zBDdr-1s"
      },
      "source": [
        ""
      ],
      "execution_count": null,
      "outputs": []
    },
    {
      "cell_type": "markdown",
      "metadata": {
        "id": "VUXe4zycs3VQ"
      },
      "source": [
        "tupla\n"
      ]
    },
    {
      "cell_type": "markdown",
      "metadata": {
        "id": "ycMy-KTmMMZH"
      },
      "source": [
        ""
      ]
    },
    {
      "cell_type": "markdown",
      "metadata": {
        "id": "iWsP4tLCLfi4"
      },
      "source": [
        ""
      ]
    },
    {
      "cell_type": "code",
      "metadata": {
        "id": "_gWT_VDYs5C1",
        "outputId": "7bb90adf-5126-4192-da52-0d4014f28080",
        "colab": {
          "base_uri": "https://localhost:8080/",
          "height": 35
        }
      },
      "source": [
        "datos_personales_tupla= \"nicolas\",20,True,\"cusco\"\n",
        "datos_personales_tupla\n",
        "type(datos_personales_tupla)\n"
      ],
      "execution_count": 44,
      "outputs": [
        {
          "output_type": "execute_result",
          "data": {
            "application/vnd.google.colaboratory.intrinsic+json": {
              "type": "string"
            },
            "text/plain": [
              "'nicolas'"
            ]
          },
          "metadata": {
            "tags": []
          },
          "execution_count": 44
        }
      ]
    },
    {
      "cell_type": "code",
      "metadata": {
        "id": "c7m_TclrubVi",
        "outputId": "db114b86-ba6a-4798-bb90-e417268671ea",
        "colab": {
          "base_uri": "https://localhost:8080/"
        }
      },
      "source": [
        "nombre_tupla=datos_personales_dupla[0]\n",
        "nombre_tupla"
      ],
      "execution_count": 51,
      "outputs": [
        {
          "output_type": "execute_result",
          "data": {
            "text/plain": [
              "20"
            ]
          },
          "metadata": {
            "tags": []
          },
          "execution_count": 51
        }
      ]
    },
    {
      "cell_type": "code",
      "metadata": {
        "id": "g4puPveJtwiF",
        "outputId": "cb0b8442-2edc-42d9-8ea8-838a9125a598",
        "colab": {
          "base_uri": "https://localhost:8080/"
        }
      },
      "source": [
        "datos_personales_dupla2=datos_personales_tupla[1:3]\n",
        "datos_personales_dupla2"
      ],
      "execution_count": 52,
      "outputs": [
        {
          "output_type": "execute_result",
          "data": {
            "text/plain": [
              "(20, True)"
            ]
          },
          "metadata": {
            "tags": []
          },
          "execution_count": 52
        }
      ]
    },
    {
      "cell_type": "code",
      "metadata": {
        "id": "MMK8usBvuk9N"
      },
      "source": [
        ""
      ],
      "execution_count": null,
      "outputs": []
    }
  ]
}