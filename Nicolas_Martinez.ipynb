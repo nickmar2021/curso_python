{
  "nbformat": 4,
  "nbformat_minor": 0,
  "metadata": {
    "colab": {
      "name": "Nicolas_Martinez.ipynb",
      "provenance": [],
      "authorship_tag": "ABX9TyMi4xYoxekYm427T7+rnSp1",
      "include_colab_link": true
    },
    "kernelspec": {
      "name": "python3",
      "display_name": "Python 3"
    },
    "language_info": {
      "name": "python"
    }
  },
  "cells": [
    {
      "cell_type": "markdown",
      "metadata": {
        "id": "view-in-github",
        "colab_type": "text"
      },
      "source": [
        "<a href=\"https://colab.research.google.com/github/nickmar2021/curso_python/blob/main/Nicolas_Martinez.ipynb\" target=\"_parent\"><img src=\"https://colab.research.google.com/assets/colab-badge.svg\" alt=\"Open In Colab\"/></a>"
      ]
    },
    {
      "cell_type": "code",
      "metadata": {
        "colab": {
          "base_uri": "https://localhost:8080/"
        },
        "id": "9i5B-P4NzQRf",
        "outputId": "16f201d4-0731-4146-97de-9e83fc066566"
      },
      "source": [
        "x=8;\n",
        "\n",
        "y=x;\n",
        "print(\"el valor de y = \",y)"
      ],
      "execution_count": 24,
      "outputs": [
        {
          "output_type": "stream",
          "text": [
            "el valor de y =  8\n"
          ],
          "name": "stdout"
        }
      ]
    },
    {
      "cell_type": "code",
      "metadata": {
        "colab": {
          "base_uri": "https://localhost:8080/"
        },
        "id": "iqvO1BZh-Coi",
        "outputId": "81e21ce4-a053-4785-d249-0f8fb2c148ac"
      },
      "source": [
        "#tipo bool\n",
        "Variable_verdadera = True\n",
        "Variable_falsa = False\n",
        "type(variable_verdadero  )"
      ],
      "execution_count": 57,
      "outputs": [
        {
          "output_type": "execute_result",
          "data": {
            "text/plain": [
              "bool"
            ]
          },
          "metadata": {
            "tags": []
          },
          "execution_count": 57
        }
      ]
    },
    {
      "cell_type": "code",
      "metadata": {
        "id": "VVDDsmgXLjhr"
      },
      "source": [
        ""
      ],
      "execution_count": null,
      "outputs": []
    },
    {
      "cell_type": "code",
      "metadata": {
        "colab": {
          "base_uri": "https://localhost:8080/"
        },
        "id": "LojWWYlbAfiC",
        "outputId": "5c7ade1c-2e55-40a1-b307-dac0c6a7a01d"
      },
      "source": [
        "bool(25)\n",
        "type(bool(25))"
      ],
      "execution_count": 59,
      "outputs": [
        {
          "output_type": "execute_result",
          "data": {
            "text/plain": [
              "bool"
            ]
          },
          "metadata": {
            "tags": []
          },
          "execution_count": 59
        }
      ]
    },
    {
      "cell_type": "code",
      "metadata": {
        "colab": {
          "base_uri": "https://localhost:8080/"
        },
        "id": "kXXzpopZBL5u",
        "outputId": "81f32d6e-0b52-4460-8a98-68ab9fd863fc"
      },
      "source": [
        "Binario=0b1111\n",
        "Binario"
      ],
      "execution_count": 38,
      "outputs": [
        {
          "output_type": "execute_result",
          "data": {
            "text/plain": [
              "15"
            ]
          },
          "metadata": {
            "tags": []
          },
          "execution_count": 38
        }
      ]
    },
    {
      "cell_type": "code",
      "metadata": {
        "colab": {
          "base_uri": "https://localhost:8080/"
        },
        "id": "rElpFtCxBYOt",
        "outputId": "73308d7a-9eda-4ded-efbc-1397bdcc4d22"
      },
      "source": [
        "cadena = \"esto es una cadena de texto\"\n",
        "type(cadena)"
      ],
      "execution_count": 39,
      "outputs": [
        {
          "output_type": "execute_result",
          "data": {
            "text/plain": [
              "str"
            ]
          },
          "metadata": {
            "tags": []
          },
          "execution_count": 39
        }
      ]
    },
    {
      "cell_type": "code",
      "metadata": {
        "colab": {
          "base_uri": "https://localhost:8080/"
        },
        "id": "VfFwUJ6CBrPe",
        "outputId": "bc80c969-d0c3-42f8-85d5-d6bd1007ca82"
      },
      "source": [
        "cadena = \"hola!\"\n",
        "cadena = cadena+ \" nicolas\"\n",
        "print(cadena)\n",
        "type(cadena )"
      ],
      "execution_count": 55,
      "outputs": [
        {
          "output_type": "stream",
          "text": [
            "5.75\n"
          ],
          "name": "stdout"
        },
        {
          "output_type": "execute_result",
          "data": {
            "text/plain": [
              "float"
            ]
          },
          "metadata": {
            "tags": []
          },
          "execution_count": 55
        }
      ]
    }
  ]
}